{
 "cells": [
  {
   "cell_type": "code",
   "execution_count": 2,
   "id": "d064a5c6-b9b0-48e5-88f0-1b4953845586",
   "metadata": {},
   "outputs": [],
   "source": [
    "with open(\"input.txt\") as d:\n",
    "    info = d.readlines()"
   ]
  },
  {
   "cell_type": "code",
   "execution_count": 13,
   "id": "fad3c5ea-936e-418b-8f75-07c2be99642d",
   "metadata": {},
   "outputs": [
    {
     "name": "stdout",
     "output_type": "stream",
     "text": [
      "{'1': [{'red': '9', 'blue': '5', 'green': '6'}, {'red': '6', 'blue': '13'}, {'blue': '2', 'green': '7', 'red': '5'}], '2': [{'red': '6', 'green': '2', 'blue': '2'}, {'green': '12', 'red': '11', 'blue': '17'}, {'blue': '2', 'red': '10', 'green': '11'}, {'green': '13', 'red': '17'}, {'blue': '15', 'red': '20', 'green': '3'}, {'blue': '3', 'red': '11', 'green': '1'}], '3': [{'green': '20', 'blue': '1', 'red': '7'}, {'green': '20', 'blue': '7'}, {'red': '18', 'green': '8', 'blue': '3'}, {'red': '7', 'blue': '6', 'green': '11'}, {'red': '11', 'blue': '6', 'green': '16'}], '4': [{'blue': '6', 'green': '6'}, {'blue': '2', 'green': '5', 'red': '1'}, {'blue': '9', 'red': '1', 'green': '1'}, {'red': '1', 'green': '6', 'blue': '8'}, {'green': '4', 'red': '1', 'blue': '1'}], '5': [{'red': '5', 'blue': '4', 'green': '11'}, {'green': '10', 'blue': '3', 'red': '18'}, {'red': '13', 'green': '13', 'blue': '2'}], '6': [{'blue': '1', 'green': '15', 'red': '7'}, {'blue': '2', 'green': '4', 'red': '1'}, {'blue': '1', 'green': '13', 'red': '11'}, {'blue': '2', 'red': '10', 'green': '9'}], '7': [{'green': '8', 'blue': '1', 'red': '1'}, {'red': '2', 'green': '2', 'blue': '3'}, {'red': '2', 'blue': '1'}], '8': [{'green': '5', 'blue': '9', 'red': '2'}, {'green': '7', 'red': '3', 'blue': '1'}, {'blue': '7', 'red': '2', 'green': '1'}, {'blue': '4', 'red': '2', 'green': '14'}, {'red': '1', 'blue': '5', 'green': '12'}, {'green': '7', 'blue': '9', 'red': '3'}], '9': [{'red': '11', 'blue': '6'}, {'blue': '2', 'red': '8', 'green': '9'}, {'green': '8', 'red': '13', 'blue': '14'}, {'blue': '2', 'red': '7', 'green': '9'}], '10': [{'red': '3', 'blue': '3', 'green': '4'}, {'red': '4', 'green': '3', 'blue': '2'}, {'red': '13', 'blue': '4', 'green': '3'}, {'blue': '6', 'green': '5', 'red': '8'}, {'red': '10', 'blue': '5', 'green': '3'}], '11': [{'blue': '8', 'green': '2', 'red': '4'}, {'red': '2', 'blue': '13', 'green': '2'}, {'red': '7', 'green': '3', 'blue': '13'}, {'blue': '8', 'red': '4'}, {'blue': '12', 'red': '6'}, {'blue': '18', 'red': '3', 'green': '1'}], '12': [{'red': '15', 'blue': '2'}, {'red': '3', 'green': '5', 'blue': '1'}, {'blue': '2', 'green': '3', 'red': '6'}, {'red': '9', 'green': '4', 'blue': '4'}, {'green': '3'}], '13': [{'red': '3', 'green': '3', 'blue': '14'}, {'red': '3', 'blue': '14', 'green': '1'}, {'green': '3', 'blue': '4'}, {'blue': '7', 'red': '1', 'green': '4'}], '14': [{'green': '1', 'red': '2', 'blue': '4'}, {'green': '3', 'blue': '5', 'red': '11'}, {'red': '12', 'green': '2'}, {'blue': '1', 'green': '3', 'red': '4'}], '15': [{'red': '1', 'green': '3', 'blue': '4'}, {'red': '2', 'green': '3', 'blue': '2'}, {'green': '10', 'red': '3', 'blue': '3'}, {'red': '5', 'green': '11', 'blue': '3'}], '16': [{'red': '5', 'blue': '12', 'green': '12'}, {'red': '8', 'blue': '5'}, {'green': '11', 'blue': '5', 'red': '12'}, {'green': '4', 'blue': '10', 'red': '1'}, {'blue': '1'}], '17': [{'green': '18', 'red': '15', 'blue': '5'}, {'blue': '5', 'green': '4', 'red': '14'}, {'red': '4', 'blue': '7', 'green': '9'}], '18': [{'red': '2', 'blue': '12', 'green': '2'}, {'blue': '15', 'red': '4'}, {'red': '14'}, {'red': '11', 'green': '5', 'blue': '5'}], '19': [{'red': '4', 'blue': '2', 'green': '4'}, {'red': '5'}, {'green': '7', 'blue': '1'}, {'green': '1', 'red': '4', 'blue': '2'}], '20': [{'green': '5', 'blue': '1'}, {'blue': '3', 'green': '9'}, {'blue': '14', 'green': '7'}, {'green': '7', 'red': '1', 'blue': '1'}, {'green': '7', 'blue': '2'}], '21': [{'blue': '6', 'green': '3', 'red': '8'}, {'red': '9', 'green': '1', 'blue': '1'}, {'green': '4', 'red': '7'}, {'blue': '1', 'green': '1', 'red': '12'}, {'green': '4', 'red': '9', 'blue': '5'}], '22': [{'red': '1', 'blue': '3', 'green': '2'}, {'green': '12', 'blue': '5', 'red': '1'}, {'green': '1', 'blue': '3', 'red': '3'}, {'red': '1', 'green': '8', 'blue': '2'}], '23': [{'blue': '2', 'red': '9', 'green': '14'}, {'blue': '7', 'red': '10'}, {'blue': '7', 'green': '7', 'red': '1'}], '24': [{'red': '19', 'green': '3'}, {'blue': '7', 'green': '4', 'red': '12'}, {'red': '14', 'green': '3', 'blue': '1'}, {'green': '3', 'red': '14'}, {'green': '5', 'blue': '7', 'red': '18'}], '25': [{'red': '12', 'green': '4', 'blue': '3'}, {'blue': '3', 'red': '12', 'green': '11'}, {'red': '3', 'green': '11', 'blue': '2'}], '26': [{'green': '11', 'red': '2'}, {'blue': '5', 'red': '4'}, {'green': '1', 'blue': '6', 'red': '3'}, {'red': '9', 'blue': '7'}, {'blue': '1', 'red': '6', 'green': '1'}], '27': [{'red': '10', 'blue': '8', 'green': '7'}, {'green': '6', 'blue': '7'}, {'red': '4', 'green': '10', 'blue': '9'}, {'red': '9', 'green': '2', 'blue': '1'}, {'blue': '11', 'red': '15', 'green': '9'}], '28': [{'blue': '3', 'red': '2', 'green': '8'}, {'red': '3', 'green': '10'}, {'green': '11', 'blue': '1'}, {'blue': '5', 'green': '6', 'red': '7'}, {'blue': '3', 'green': '2'}], '29': [{'red': '18', 'blue': '1'}, {'red': '3', 'blue': '4', 'green': '7'}, {'blue': '1', 'green': '16', 'red': '2'}, {'blue': '3', 'green': '6', 'red': '15'}, {'red': '1', 'blue': '1'}, {'red': '17', 'green': '6'}], '30': [{'red': '10', 'blue': '6', 'green': '13'}, {'green': '2', 'red': '10', 'blue': '4'}, {'red': '4', 'green': '2', 'blue': '2'}], '31': [{'red': '5', 'green': '13', 'blue': '5'}, {'green': '5', 'blue': '12', 'red': '5'}, {'red': '5', 'green': '3', 'blue': '5'}, {'green': '2', 'red': '3', 'blue': '14'}], '32': [{'blue': '2', 'red': '14', 'green': '13'}, {'red': '11', 'green': '3', 'blue': '1'}, {'red': '9', 'blue': '2', 'green': '2'}, {'blue': '5', 'red': '3', 'green': '2'}, {'blue': '4', 'green': '8', 'red': '6'}, {'red': '12', 'green': '4', 'blue': '5'}], '33': [{'green': '1', 'blue': '15'}, {'red': '1', 'blue': '4'}, {'red': '1', 'green': '1', 'blue': '5'}], '34': [{'green': '1', 'blue': '2', 'red': '3'}, {'red': '11', 'blue': '10'}, {'blue': '6', 'red': '3'}], '35': [{'blue': '2', 'red': '3', 'green': '1'}, {'green': '1', 'blue': '9', 'red': '8'}, {'blue': '2', 'red': '5'}, {'green': '2', 'red': '2', 'blue': '2'}, {'red': '1', 'blue': '10'}, {'red': '5', 'blue': '9'}], '36': [{'green': '8', 'red': '1', 'blue': '2'}, {'red': '7', 'green': '5', 'blue': '9'}, {'red': '1', 'green': '10', 'blue': '13'}, {'red': '1', 'green': '10'}], '37': [{'green': '1', 'red': '1'}, {'green': '2', 'red': '2'}, {'green': '2', 'red': '6'}, {'red': '7'}, {'blue': '1', 'red': '2'}], '38': [{'red': '8', 'green': '7', 'blue': '11'}, {'green': '6', 'blue': '10', 'red': '11'}, {'blue': '13', 'green': '18', 'red': '7'}, {'red': '2', 'blue': '7', 'green': '12'}], '39': [{'blue': '4', 'red': '8'}, {'blue': '1', 'red': '11', 'green': '2'}, {'green': '2', 'blue': '3', 'red': '12'}, {'red': '6', 'green': '1', 'blue': '9'}, {'red': '6', 'blue': '1', 'green': '1'}], '40': [{'blue': '2', 'red': '17', 'green': '2'}, {'red': '4', 'green': '7'}, {'blue': '4', 'green': '1', 'red': '10'}, {'green': '6', 'red': '2'}, {'red': '6', 'blue': '1', 'green': '4'}, {'green': '5', 'red': '9', 'blue': '4'}], '41': [{'red': '1', 'blue': '8'}, {'green': '3', 'red': '5', 'blue': '3'}, {'blue': '8', 'green': '1'}, {'red': '1', 'blue': '9'}, {'red': '5', 'blue': '3'}, {'green': '1', 'red': '4', 'blue': '3'}], '42': [{'green': '7', 'red': '1', 'blue': '10'}, {'blue': '11', 'green': '1'}, {'red': '1', 'blue': '17', 'green': '2'}, {'red': '1', 'green': '4'}, {'green': '1', 'blue': '3'}, {'blue': '11', 'red': '1'}], '43': [{'green': '5', 'red': '1'}, {'blue': '5', 'green': '3', 'red': '14'}, {'green': '7', 'red': '2', 'blue': '11'}, {'red': '3', 'green': '10', 'blue': '4'}, {'green': '5', 'blue': '3', 'red': '9'}, {'green': '8', 'blue': '3', 'red': '2'}], '44': [{'blue': '10', 'red': '1', 'green': '2'}, {'blue': '5', 'green': '2', 'red': '2'}, {'red': '2', 'green': '2', 'blue': '5'}, {'blue': '7', 'red': '14', 'green': '1'}, {'red': '1', 'green': '2', 'blue': '5'}], '45': [{'green': '16', 'blue': '11', 'red': '7'}, {'blue': '6', 'red': '8', 'green': '9'}, {'green': '7', 'blue': '8', 'red': '10'}, {'red': '13', 'green': '15', 'blue': '8'}, {'red': '3', 'green': '12'}], '46': [{'red': '7', 'green': '2', 'blue': '4'}, {'green': '3', 'blue': '7'}, {'blue': '2', 'red': '5', 'green': '2'}, {'green': '3', 'blue': '8', 'red': '2'}], '47': [{'blue': '6', 'red': '5'}, {'red': '5', 'green': '4', 'blue': '5'}, {'green': '4', 'red': '8'}, {'red': '5', 'blue': '4', 'green': '4'}, {'blue': '5', 'green': '5', 'red': '3'}, {'blue': '5', 'green': '2', 'red': '3'}], '48': [{'blue': '11', 'green': '7', 'red': '2'}, {'red': '3', 'green': '8', 'blue': '1'}, {'red': '3'}], '49': [{'blue': '8', 'green': '1', 'red': '3'}, {'blue': '2', 'red': '4'}, {'red': '6', 'green': '1'}, {'red': '2', 'blue': '10', 'green': '10'}], '50': [{'red': '1', 'green': '8'}, {'blue': '1', 'red': '2', 'green': '8'}, {'red': '7', 'blue': '1'}, {'red': '7', 'blue': '1', 'green': '5'}, {'green': '6', 'red': '3'}], '51': [{'blue': '10', 'red': '6'}, {'red': '10'}, {'red': '12', 'blue': '5'}, {'red': '11', 'green': '3', 'blue': '3'}], '52': [{'green': '11', 'red': '7', 'blue': '3'}, {'red': '1', 'blue': '9', 'green': '8'}, {'green': '16', 'blue': '2', 'red': '8'}, {'blue': '8', 'green': '6'}, {'blue': '3', 'red': '5', 'green': '10'}, {'red': '8', 'blue': '9', 'green': '12'}], '53': [{'green': '1', 'blue': '4', 'red': '11'}, {'green': '1', 'red': '12', 'blue': '6'}, {'green': '1', 'red': '5', 'blue': '12'}, {'red': '5', 'blue': '11'}, {'blue': '1', 'red': '11'}, {'blue': '8', 'red': '4', 'green': '1'}], '54': [{'blue': '3', 'green': '2', 'red': '8'}, {'blue': '2', 'red': '5'}, {'blue': '3', 'red': '2', 'green': '2'}, {'red': '1', 'blue': '9'}, {'red': '5'}], '55': [{'green': '1', 'blue': '11', 'red': '5'}, {'blue': '16', 'green': '11', 'red': '8'}, {'blue': '16', 'red': '2', 'green': '13'}], '56': [{'green': '8', 'blue': '6', 'red': '6'}, {'blue': '10', 'red': '6', 'green': '9'}, {'green': '3', 'blue': '13', 'red': '6'}, {'green': '4', 'blue': '5', 'red': '3'}], '57': [{'green': '6', 'blue': '6'}, {'green': '1', 'red': '1'}, {'green': '14', 'blue': '1'}], '58': [{'blue': '1'}, {'red': '1'}, {'red': '1', 'green': '3', 'blue': '1'}, {'red': '1'}], '59': [{'green': '5', 'red': '10'}, {'green': '1', 'blue': '2', 'red': '6'}, {'red': '8', 'green': '3', 'blue': '2'}, {'green': '4', 'blue': '1'}], '60': [{'red': '2', 'green': '8'}, {'blue': '1', 'green': '3', 'red': '1'}, {'green': '2', 'blue': '1', 'red': '5'}, {'red': '1', 'green': '13', 'blue': '1'}, {'red': '4', 'green': '6', 'blue': '1'}], '61': [{'red': '2', 'green': '2'}, {'red': '15', 'green': '1', 'blue': '3'}, {'red': '20'}, {'red': '7', 'blue': '2'}, {'red': '8', 'blue': '5', 'green': '1'}], '62': [{'green': '4', 'red': '12', 'blue': '14'}, {'red': '11', 'blue': '3', 'green': '13'}, {'green': '6', 'blue': '16', 'red': '7'}, {'red': '7', 'blue': '10', 'green': '11'}], '63': [{'green': '2', 'red': '8', 'blue': '3'}, {'red': '1'}, {'blue': '2', 'red': '8'}, {'blue': '5', 'red': '2'}, {'green': '1', 'blue': '5', 'red': '10'}, {'green': '1', 'blue': '3', 'red': '11'}], '64': [{'blue': '12', 'red': '2', 'green': '4'}, {'green': '4', 'red': '3', 'blue': '5'}, {'blue': '9', 'red': '1', 'green': '4'}, {'green': '7', 'blue': '7', 'red': '1'}, {'red': '1', 'blue': '10', 'green': '2'}], '65': [{'blue': '4', 'green': '2', 'red': '1'}, {'blue': '1', 'red': '4', 'green': '3'}, {'green': '5', 'red': '3'}, {'red': '1', 'green': '2', 'blue': '15'}, {'blue': '3', 'red': '3'}], '66': [{'red': '1', 'blue': '7', 'green': '1'}, {'red': '3', 'green': '1', 'blue': '1'}, {'green': '1', 'red': '9', 'blue': '2'}, {'green': '2', 'blue': '2'}, {'red': '5', 'green': '3', 'blue': '3'}, {'blue': '1', 'red': '5'}], '67': [{'green': '6'}, {'green': '17', 'blue': '5'}, {'blue': '3', 'red': '3', 'green': '9'}, {'green': '2', 'blue': '4'}, {'red': '1', 'green': '15'}], '68': [{'blue': '1', 'red': '11', 'green': '8'}, {'green': '17', 'blue': '3', 'red': '8'}, {'green': '5', 'red': '8'}, {'green': '18', 'red': '7', 'blue': '2'}, {'green': '6'}], '69': [{'green': '12', 'blue': '13', 'red': '2'}, {'red': '4', 'green': '14', 'blue': '1'}, {'red': '11', 'green': '15', 'blue': '5'}, {'green': '15', 'red': '9'}, {'blue': '4', 'red': '1', 'green': '5'}, {'red': '10', 'green': '20', 'blue': '13'}], '70': [{'red': '6', 'green': '8', 'blue': '7'}, {'blue': '5', 'red': '1', 'green': '17'}, {'red': '2', 'blue': '3', 'green': '6'}, {'blue': '7', 'red': '1', 'green': '14'}, {'red': '7', 'blue': '6', 'green': '16'}], '71': [{'green': '3', 'blue': '3', 'red': '3'}, {'blue': '1', 'red': '11', 'green': '2'}, {'blue': '1', 'red': '11'}], '72': [{'red': '9', 'blue': '17', 'green': '1'}, {'red': '20', 'green': '3', 'blue': '2'}, {'blue': '14', 'green': '4', 'red': '11'}, {'red': '2', 'blue': '12', 'green': '7'}, {'red': '18', 'blue': '13', 'green': '7'}], '73': [{'green': '6', 'blue': '12', 'red': '1'}, {'blue': '10', 'red': '5'}, {'green': '6', 'blue': '17', 'red': '3'}], '74': [{'green': '1', 'blue': '2', 'red': '13'}, {'blue': '2', 'green': '2', 'red': '1'}, {'green': '2', 'blue': '1', 'red': '7'}, {'red': '1', 'green': '1'}], '75': [{'red': '10', 'green': '2'}, {'blue': '3', 'green': '4'}, {'red': '9', 'green': '1'}], '76': [{'red': '1', 'green': '3', 'blue': '1'}, {'blue': '3', 'green': '4', 'red': '6'}, {'blue': '9', 'green': '12', 'red': '2'}, {'green': '5', 'red': '1', 'blue': '1'}], '77': [{'blue': '3', 'red': '4', 'green': '11'}, {'green': '8', 'red': '5'}, {'blue': '7', 'green': '11'}, {'green': '1', 'blue': '3', 'red': '6'}], '78': [{'blue': '15', 'green': '5'}, {'green': '7', 'blue': '9'}, {'green': '7', 'red': '3', 'blue': '2'}], '79': [{'green': '9', 'red': '6', 'blue': '4'}, {'blue': '4', 'red': '2', 'green': '14'}, {'green': '17', 'blue': '2', 'red': '4'}, {'red': '1', 'green': '2'}, {'red': '3', 'green': '3', 'blue': '2'}], '80': [{'green': '1'}, {'green': '15', 'red': '1'}, {'blue': '1', 'green': '20', 'red': '1'}, {'red': '3', 'green': '15', 'blue': '1'}, {'red': '4', 'green': '3'}, {'red': '2', 'green': '18'}], '81': [{'blue': '4', 'green': '1', 'red': '13'}, {'blue': '13', 'red': '19'}, {'red': '4', 'blue': '13'}, {'blue': '8', 'red': '10'}, {'blue': '13', 'red': '5'}, {'green': '1', 'blue': '7', 'red': '12'}], '82': [{'red': '5', 'blue': '3'}, {'red': '4', 'green': '3', 'blue': '9'}, {'blue': '19', 'green': '1', 'red': '5'}, {'green': '5', 'red': '3', 'blue': '10'}], '83': [{'red': '9', 'blue': '3', 'green': '5'}, {'blue': '1', 'green': '1', 'red': '11'}, {'blue': '2', 'green': '6', 'red': '18'}], '84': [{'green': '2'}, {'green': '6', 'red': '5'}, {'green': '3', 'red': '1', 'blue': '1'}], '85': [{'blue': '2', 'red': '6'}, {'green': '9', 'red': '5', 'blue': '15'}, {'green': '7', 'red': '10', 'blue': '2'}, {'red': '10', 'blue': '6', 'green': '2'}, {'green': '8', 'red': '5', 'blue': '12'}, {'green': '6', 'blue': '5', 'red': '6'}], '86': [{'blue': '2', 'red': '12', 'green': '3'}, {'red': '3', 'blue': '2'}, {'green': '1', 'blue': '2', 'red': '2'}, {'blue': '7', 'red': '3', 'green': '1'}, {'green': '1', 'blue': '2', 'red': '5'}, {'green': '3', 'red': '14', 'blue': '4'}], '87': [{'blue': '3', 'green': '1'}, {'red': '3', 'blue': '2', 'green': '1'}, {'red': '1', 'blue': '3'}, {'red': '10', 'green': '3'}, {'red': '5', 'blue': '2'}], '88': [{'blue': '3', 'red': '9', 'green': '9'}, {'blue': '9', 'red': '11'}, {'green': '2', 'blue': '11'}, {'blue': '2', 'red': '14', 'green': '1'}, {'green': '7', 'blue': '11', 'red': '8'}, {'red': '9', 'green': '8', 'blue': '3'}], '89': [{'red': '3', 'blue': '1', 'green': '16'}, {'blue': '5', 'red': '4', 'green': '3'}, {'blue': '3', 'red': '5', 'green': '5'}, {'green': '5', 'blue': '8', 'red': '2'}, {'green': '4', 'red': '2', 'blue': '1'}, {'red': '4', 'green': '1', 'blue': '6'}], '90': [{'green': '7', 'red': '8'}, {'blue': '1', 'green': '7', 'red': '5'}, {'green': '4', 'red': '6'}], '91': [{'green': '3', 'red': '6', 'blue': '4'}, {'green': '2', 'red': '9', 'blue': '10'}, {'green': '3', 'blue': '12'}, {'red': '1', 'blue': '4'}], '92': [{'green': '12', 'blue': '8', 'red': '16'}, {'red': '6', 'green': '14', 'blue': '4'}, {'green': '3', 'red': '3', 'blue': '10'}, {'blue': '9', 'red': '6', 'green': '15'}, {'green': '14', 'blue': '9', 'red': '10'}], '93': [{'blue': '4', 'red': '4', 'green': '9'}, {'blue': '2', 'green': '2', 'red': '6'}, {'blue': '1', 'red': '7'}, {'blue': '7', 'red': '17'}, {'blue': '2', 'red': '13', 'green': '10'}], '94': [{'green': '4', 'red': '10'}, {'red': '9'}, {'green': '1', 'blue': '3', 'red': '14'}], '95': [{'green': '9', 'red': '5'}, {'blue': '3', 'red': '11', 'green': '6'}, {'red': '4', 'green': '1'}, {'green': '13', 'blue': '3', 'red': '5'}, {'red': '1', 'blue': '6', 'green': '12'}, {'red': '7', 'green': '7'}], '96': [{'blue': '6'}, {'green': '5', 'blue': '2', 'red': '2'}, {'blue': '14', 'green': '3'}], '97': [{'blue': '1', 'green': '2', 'red': '5'}, {'green': '2', 'blue': '8', 'red': '9'}, {'green': '1', 'blue': '8', 'red': '6'}, {'blue': '1', 'red': '17'}, {'green': '2', 'blue': '10', 'red': '11'}], '98': [{'red': '3', 'blue': '12', 'green': '2'}, {'green': '3', 'blue': '4', 'red': '4'}, {'red': '1', 'blue': '11', 'green': '2'}, {'blue': '1', 'red': '3'}], '99': [{'green': '2', 'red': '9'}, {'red': '8', 'green': '4', 'blue': '9'}, {'blue': '8', 'red': '13'}, {'green': '10', 'blue': '8', 'red': '6'}, {'green': '11', 'red': '2', 'blue': '13'}], '100': [{'blue': '5', 'green': '2', 'red': '7'}, {'red': '14', 'green': '15', 'blue': '1'}, {'blue': '3', 'red': '3'}, {'green': '8', 'red': '10', 'blue': '6'}, {'blue': '6', 'red': '4', 'green': '8'}]}\n"
     ]
    }
   ],
   "source": [
    "# Creating a dict with key-val pairs\n",
    "games = {}\n",
    "for game in info:\n",
    "    key_part, value_part = game.rstrip(\"\\n\").split(':')\n",
    "    key = key_part.split(' ')[1]\n",
    "    value_list = value_part.split(';')\n",
    "    value = []\n",
    "    for v in value_list:\n",
    "        v = v.split(',')\n",
    "        v_dict = {}\n",
    "        for ele in v:\n",
    "            num, color = ele.split(' ')[1:]\n",
    "            v_dict[color] = num\n",
    "        value.append(v_dict)\n",
    "    games[key] = value\n",
    "print(games)"
   ]
  },
  {
   "cell_type": "code",
   "execution_count": 5,
   "id": "a6c17e5d-bd5d-4e5f-8cb7-cbe4c21ca42c",
   "metadata": {},
   "outputs": [],
   "source": [
    "# check for possible and impossible games\n",
    "def check(color, num):\n",
    "    # red has a maximum of 12\n",
    "    # green has a max of 13\n",
    "    # blue has a max of  14\n",
    "    if color == 'red':\n",
    "        if int(num) <= 12: #check red for less than 12\n",
    "            return True\n",
    "        else:\n",
    "            return False\n",
    "    elif color == 'green':\n",
    "        if int(num) <= 13: #check green for less than 13\n",
    "            return True\n",
    "        else:\n",
    "            return False\n",
    "    elif color == 'blue':\n",
    "        if int(num) <= 14: #check blue for less than 14\n",
    "            return True\n",
    "        else:\n",
    "            return False\n",
    "    else:\n",
    "        return False\n",
    "\n",
    "#finally now that we know which games are true and which games are false we can add them together to get our total.\n",
    "result = []"
   ]
  },
  {
   "cell_type": "code",
   "execution_count": 6,
   "id": "9382af42-004a-4c33-9b18-4f5c8b6d4feb",
   "metadata": {},
   "outputs": [
    {
     "name": "stdout",
     "output_type": "stream",
     "text": [
      "2278\n"
     ]
    }
   ],
   "source": [
    "for game_num, game_lst in games.items():\n",
    "    flag = True\n",
    "    for game in game_lst:\n",
    "        for k, v in game.items():\n",
    "            if not check(k, v):\n",
    "                flag = False\n",
    "                break\n",
    "        if not flag:\n",
    "            break\n",
    "    if flag:\n",
    "        result.append(int(game_num))\n",
    "\n",
    "\n",
    "print(sum(result))"
   ]
  },
  {
   "cell_type": "markdown",
   "id": "816ad132-4791-4a6e-809b-cafb1ca79b19",
   "metadata": {},
   "source": [
    "## Part two"
   ]
  },
  {
   "cell_type": "code",
   "execution_count": 8,
   "id": "0542c3fc-499f-40c2-bb61-424e98c09223",
   "metadata": {},
   "outputs": [],
   "source": [
    "with open(\"input.txt\") as d:\n",
    "    info = d.readlines()"
   ]
  },
  {
   "cell_type": "code",
   "execution_count": 9,
   "id": "1bd9caa3-43ae-40b7-aba5-e2b085dce1f5",
   "metadata": {},
   "outputs": [
    {
     "name": "stdout",
     "output_type": "stream",
     "text": [
      "{'1': [{'red': '9', 'blue': '5', 'green': '6'}, {'red': '6', 'blue': '13'}, {'blue': '2', 'green': '7', 'red': '5'}], '2': [{'red': '6', 'green': '2', 'blue': '2'}, {'green': '12', 'red': '11', 'blue': '17'}, {'blue': '2', 'red': '10', 'green': '11'}, {'green': '13', 'red': '17'}, {'blue': '15', 'red': '20', 'green': '3'}, {'blue': '3', 'red': '11', 'green': '1'}], '3': [{'green': '20', 'blue': '1', 'red': '7'}, {'green': '20', 'blue': '7'}, {'red': '18', 'green': '8', 'blue': '3'}, {'red': '7', 'blue': '6', 'green': '11'}, {'red': '11', 'blue': '6', 'green': '16'}], '4': [{'blue': '6', 'green': '6'}, {'blue': '2', 'green': '5', 'red': '1'}, {'blue': '9', 'red': '1', 'green': '1'}, {'red': '1', 'green': '6', 'blue': '8'}, {'green': '4', 'red': '1', 'blue': '1'}], '5': [{'red': '5', 'blue': '4', 'green': '11'}, {'green': '10', 'blue': '3', 'red': '18'}, {'red': '13', 'green': '13', 'blue': '2'}], '6': [{'blue': '1', 'green': '15', 'red': '7'}, {'blue': '2', 'green': '4', 'red': '1'}, {'blue': '1', 'green': '13', 'red': '11'}, {'blue': '2', 'red': '10', 'green': '9'}], '7': [{'green': '8', 'blue': '1', 'red': '1'}, {'red': '2', 'green': '2', 'blue': '3'}, {'red': '2', 'blue': '1'}], '8': [{'green': '5', 'blue': '9', 'red': '2'}, {'green': '7', 'red': '3', 'blue': '1'}, {'blue': '7', 'red': '2', 'green': '1'}, {'blue': '4', 'red': '2', 'green': '14'}, {'red': '1', 'blue': '5', 'green': '12'}, {'green': '7', 'blue': '9', 'red': '3'}], '9': [{'red': '11', 'blue': '6'}, {'blue': '2', 'red': '8', 'green': '9'}, {'green': '8', 'red': '13', 'blue': '14'}, {'blue': '2', 'red': '7', 'green': '9'}], '10': [{'red': '3', 'blue': '3', 'green': '4'}, {'red': '4', 'green': '3', 'blue': '2'}, {'red': '13', 'blue': '4', 'green': '3'}, {'blue': '6', 'green': '5', 'red': '8'}, {'red': '10', 'blue': '5', 'green': '3'}], '11': [{'blue': '8', 'green': '2', 'red': '4'}, {'red': '2', 'blue': '13', 'green': '2'}, {'red': '7', 'green': '3', 'blue': '13'}, {'blue': '8', 'red': '4'}, {'blue': '12', 'red': '6'}, {'blue': '18', 'red': '3', 'green': '1'}], '12': [{'red': '15', 'blue': '2'}, {'red': '3', 'green': '5', 'blue': '1'}, {'blue': '2', 'green': '3', 'red': '6'}, {'red': '9', 'green': '4', 'blue': '4'}, {'green': '3'}], '13': [{'red': '3', 'green': '3', 'blue': '14'}, {'red': '3', 'blue': '14', 'green': '1'}, {'green': '3', 'blue': '4'}, {'blue': '7', 'red': '1', 'green': '4'}], '14': [{'green': '1', 'red': '2', 'blue': '4'}, {'green': '3', 'blue': '5', 'red': '11'}, {'red': '12', 'green': '2'}, {'blue': '1', 'green': '3', 'red': '4'}], '15': [{'red': '1', 'green': '3', 'blue': '4'}, {'red': '2', 'green': '3', 'blue': '2'}, {'green': '10', 'red': '3', 'blue': '3'}, {'red': '5', 'green': '11', 'blue': '3'}], '16': [{'red': '5', 'blue': '12', 'green': '12'}, {'red': '8', 'blue': '5'}, {'green': '11', 'blue': '5', 'red': '12'}, {'green': '4', 'blue': '10', 'red': '1'}, {'blue': '1'}], '17': [{'green': '18', 'red': '15', 'blue': '5'}, {'blue': '5', 'green': '4', 'red': '14'}, {'red': '4', 'blue': '7', 'green': '9'}], '18': [{'red': '2', 'blue': '12', 'green': '2'}, {'blue': '15', 'red': '4'}, {'red': '14'}, {'red': '11', 'green': '5', 'blue': '5'}], '19': [{'red': '4', 'blue': '2', 'green': '4'}, {'red': '5'}, {'green': '7', 'blue': '1'}, {'green': '1', 'red': '4', 'blue': '2'}], '20': [{'green': '5', 'blue': '1'}, {'blue': '3', 'green': '9'}, {'blue': '14', 'green': '7'}, {'green': '7', 'red': '1', 'blue': '1'}, {'green': '7', 'blue': '2'}], '21': [{'blue': '6', 'green': '3', 'red': '8'}, {'red': '9', 'green': '1', 'blue': '1'}, {'green': '4', 'red': '7'}, {'blue': '1', 'green': '1', 'red': '12'}, {'green': '4', 'red': '9', 'blue': '5'}], '22': [{'red': '1', 'blue': '3', 'green': '2'}, {'green': '12', 'blue': '5', 'red': '1'}, {'green': '1', 'blue': '3', 'red': '3'}, {'red': '1', 'green': '8', 'blue': '2'}], '23': [{'blue': '2', 'red': '9', 'green': '14'}, {'blue': '7', 'red': '10'}, {'blue': '7', 'green': '7', 'red': '1'}], '24': [{'red': '19', 'green': '3'}, {'blue': '7', 'green': '4', 'red': '12'}, {'red': '14', 'green': '3', 'blue': '1'}, {'green': '3', 'red': '14'}, {'green': '5', 'blue': '7', 'red': '18'}], '25': [{'red': '12', 'green': '4', 'blue': '3'}, {'blue': '3', 'red': '12', 'green': '11'}, {'red': '3', 'green': '11', 'blue': '2'}], '26': [{'green': '11', 'red': '2'}, {'blue': '5', 'red': '4'}, {'green': '1', 'blue': '6', 'red': '3'}, {'red': '9', 'blue': '7'}, {'blue': '1', 'red': '6', 'green': '1'}], '27': [{'red': '10', 'blue': '8', 'green': '7'}, {'green': '6', 'blue': '7'}, {'red': '4', 'green': '10', 'blue': '9'}, {'red': '9', 'green': '2', 'blue': '1'}, {'blue': '11', 'red': '15', 'green': '9'}], '28': [{'blue': '3', 'red': '2', 'green': '8'}, {'red': '3', 'green': '10'}, {'green': '11', 'blue': '1'}, {'blue': '5', 'green': '6', 'red': '7'}, {'blue': '3', 'green': '2'}], '29': [{'red': '18', 'blue': '1'}, {'red': '3', 'blue': '4', 'green': '7'}, {'blue': '1', 'green': '16', 'red': '2'}, {'blue': '3', 'green': '6', 'red': '15'}, {'red': '1', 'blue': '1'}, {'red': '17', 'green': '6'}], '30': [{'red': '10', 'blue': '6', 'green': '13'}, {'green': '2', 'red': '10', 'blue': '4'}, {'red': '4', 'green': '2', 'blue': '2'}], '31': [{'red': '5', 'green': '13', 'blue': '5'}, {'green': '5', 'blue': '12', 'red': '5'}, {'red': '5', 'green': '3', 'blue': '5'}, {'green': '2', 'red': '3', 'blue': '14'}], '32': [{'blue': '2', 'red': '14', 'green': '13'}, {'red': '11', 'green': '3', 'blue': '1'}, {'red': '9', 'blue': '2', 'green': '2'}, {'blue': '5', 'red': '3', 'green': '2'}, {'blue': '4', 'green': '8', 'red': '6'}, {'red': '12', 'green': '4', 'blue': '5'}], '33': [{'green': '1', 'blue': '15'}, {'red': '1', 'blue': '4'}, {'red': '1', 'green': '1', 'blue': '5'}], '34': [{'green': '1', 'blue': '2', 'red': '3'}, {'red': '11', 'blue': '10'}, {'blue': '6', 'red': '3'}], '35': [{'blue': '2', 'red': '3', 'green': '1'}, {'green': '1', 'blue': '9', 'red': '8'}, {'blue': '2', 'red': '5'}, {'green': '2', 'red': '2', 'blue': '2'}, {'red': '1', 'blue': '10'}, {'red': '5', 'blue': '9'}], '36': [{'green': '8', 'red': '1', 'blue': '2'}, {'red': '7', 'green': '5', 'blue': '9'}, {'red': '1', 'green': '10', 'blue': '13'}, {'red': '1', 'green': '10'}], '37': [{'green': '1', 'red': '1'}, {'green': '2', 'red': '2'}, {'green': '2', 'red': '6'}, {'red': '7'}, {'blue': '1', 'red': '2'}], '38': [{'red': '8', 'green': '7', 'blue': '11'}, {'green': '6', 'blue': '10', 'red': '11'}, {'blue': '13', 'green': '18', 'red': '7'}, {'red': '2', 'blue': '7', 'green': '12'}], '39': [{'blue': '4', 'red': '8'}, {'blue': '1', 'red': '11', 'green': '2'}, {'green': '2', 'blue': '3', 'red': '12'}, {'red': '6', 'green': '1', 'blue': '9'}, {'red': '6', 'blue': '1', 'green': '1'}], '40': [{'blue': '2', 'red': '17', 'green': '2'}, {'red': '4', 'green': '7'}, {'blue': '4', 'green': '1', 'red': '10'}, {'green': '6', 'red': '2'}, {'red': '6', 'blue': '1', 'green': '4'}, {'green': '5', 'red': '9', 'blue': '4'}], '41': [{'red': '1', 'blue': '8'}, {'green': '3', 'red': '5', 'blue': '3'}, {'blue': '8', 'green': '1'}, {'red': '1', 'blue': '9'}, {'red': '5', 'blue': '3'}, {'green': '1', 'red': '4', 'blue': '3'}], '42': [{'green': '7', 'red': '1', 'blue': '10'}, {'blue': '11', 'green': '1'}, {'red': '1', 'blue': '17', 'green': '2'}, {'red': '1', 'green': '4'}, {'green': '1', 'blue': '3'}, {'blue': '11', 'red': '1'}], '43': [{'green': '5', 'red': '1'}, {'blue': '5', 'green': '3', 'red': '14'}, {'green': '7', 'red': '2', 'blue': '11'}, {'red': '3', 'green': '10', 'blue': '4'}, {'green': '5', 'blue': '3', 'red': '9'}, {'green': '8', 'blue': '3', 'red': '2'}], '44': [{'blue': '10', 'red': '1', 'green': '2'}, {'blue': '5', 'green': '2', 'red': '2'}, {'red': '2', 'green': '2', 'blue': '5'}, {'blue': '7', 'red': '14', 'green': '1'}, {'red': '1', 'green': '2', 'blue': '5'}], '45': [{'green': '16', 'blue': '11', 'red': '7'}, {'blue': '6', 'red': '8', 'green': '9'}, {'green': '7', 'blue': '8', 'red': '10'}, {'red': '13', 'green': '15', 'blue': '8'}, {'red': '3', 'green': '12'}], '46': [{'red': '7', 'green': '2', 'blue': '4'}, {'green': '3', 'blue': '7'}, {'blue': '2', 'red': '5', 'green': '2'}, {'green': '3', 'blue': '8', 'red': '2'}], '47': [{'blue': '6', 'red': '5'}, {'red': '5', 'green': '4', 'blue': '5'}, {'green': '4', 'red': '8'}, {'red': '5', 'blue': '4', 'green': '4'}, {'blue': '5', 'green': '5', 'red': '3'}, {'blue': '5', 'green': '2', 'red': '3'}], '48': [{'blue': '11', 'green': '7', 'red': '2'}, {'red': '3', 'green': '8', 'blue': '1'}, {'red': '3'}], '49': [{'blue': '8', 'green': '1', 'red': '3'}, {'blue': '2', 'red': '4'}, {'red': '6', 'green': '1'}, {'red': '2', 'blue': '10', 'green': '10'}], '50': [{'red': '1', 'green': '8'}, {'blue': '1', 'red': '2', 'green': '8'}, {'red': '7', 'blue': '1'}, {'red': '7', 'blue': '1', 'green': '5'}, {'green': '6', 'red': '3'}], '51': [{'blue': '10', 'red': '6'}, {'red': '10'}, {'red': '12', 'blue': '5'}, {'red': '11', 'green': '3', 'blue': '3'}], '52': [{'green': '11', 'red': '7', 'blue': '3'}, {'red': '1', 'blue': '9', 'green': '8'}, {'green': '16', 'blue': '2', 'red': '8'}, {'blue': '8', 'green': '6'}, {'blue': '3', 'red': '5', 'green': '10'}, {'red': '8', 'blue': '9', 'green': '12'}], '53': [{'green': '1', 'blue': '4', 'red': '11'}, {'green': '1', 'red': '12', 'blue': '6'}, {'green': '1', 'red': '5', 'blue': '12'}, {'red': '5', 'blue': '11'}, {'blue': '1', 'red': '11'}, {'blue': '8', 'red': '4', 'green': '1'}], '54': [{'blue': '3', 'green': '2', 'red': '8'}, {'blue': '2', 'red': '5'}, {'blue': '3', 'red': '2', 'green': '2'}, {'red': '1', 'blue': '9'}, {'red': '5'}], '55': [{'green': '1', 'blue': '11', 'red': '5'}, {'blue': '16', 'green': '11', 'red': '8'}, {'blue': '16', 'red': '2', 'green': '13'}], '56': [{'green': '8', 'blue': '6', 'red': '6'}, {'blue': '10', 'red': '6', 'green': '9'}, {'green': '3', 'blue': '13', 'red': '6'}, {'green': '4', 'blue': '5', 'red': '3'}], '57': [{'green': '6', 'blue': '6'}, {'green': '1', 'red': '1'}, {'green': '14', 'blue': '1'}], '58': [{'blue': '1'}, {'red': '1'}, {'red': '1', 'green': '3', 'blue': '1'}, {'red': '1'}], '59': [{'green': '5', 'red': '10'}, {'green': '1', 'blue': '2', 'red': '6'}, {'red': '8', 'green': '3', 'blue': '2'}, {'green': '4', 'blue': '1'}], '60': [{'red': '2', 'green': '8'}, {'blue': '1', 'green': '3', 'red': '1'}, {'green': '2', 'blue': '1', 'red': '5'}, {'red': '1', 'green': '13', 'blue': '1'}, {'red': '4', 'green': '6', 'blue': '1'}], '61': [{'red': '2', 'green': '2'}, {'red': '15', 'green': '1', 'blue': '3'}, {'red': '20'}, {'red': '7', 'blue': '2'}, {'red': '8', 'blue': '5', 'green': '1'}], '62': [{'green': '4', 'red': '12', 'blue': '14'}, {'red': '11', 'blue': '3', 'green': '13'}, {'green': '6', 'blue': '16', 'red': '7'}, {'red': '7', 'blue': '10', 'green': '11'}], '63': [{'green': '2', 'red': '8', 'blue': '3'}, {'red': '1'}, {'blue': '2', 'red': '8'}, {'blue': '5', 'red': '2'}, {'green': '1', 'blue': '5', 'red': '10'}, {'green': '1', 'blue': '3', 'red': '11'}], '64': [{'blue': '12', 'red': '2', 'green': '4'}, {'green': '4', 'red': '3', 'blue': '5'}, {'blue': '9', 'red': '1', 'green': '4'}, {'green': '7', 'blue': '7', 'red': '1'}, {'red': '1', 'blue': '10', 'green': '2'}], '65': [{'blue': '4', 'green': '2', 'red': '1'}, {'blue': '1', 'red': '4', 'green': '3'}, {'green': '5', 'red': '3'}, {'red': '1', 'green': '2', 'blue': '15'}, {'blue': '3', 'red': '3'}], '66': [{'red': '1', 'blue': '7', 'green': '1'}, {'red': '3', 'green': '1', 'blue': '1'}, {'green': '1', 'red': '9', 'blue': '2'}, {'green': '2', 'blue': '2'}, {'red': '5', 'green': '3', 'blue': '3'}, {'blue': '1', 'red': '5'}], '67': [{'green': '6'}, {'green': '17', 'blue': '5'}, {'blue': '3', 'red': '3', 'green': '9'}, {'green': '2', 'blue': '4'}, {'red': '1', 'green': '15'}], '68': [{'blue': '1', 'red': '11', 'green': '8'}, {'green': '17', 'blue': '3', 'red': '8'}, {'green': '5', 'red': '8'}, {'green': '18', 'red': '7', 'blue': '2'}, {'green': '6'}], '69': [{'green': '12', 'blue': '13', 'red': '2'}, {'red': '4', 'green': '14', 'blue': '1'}, {'red': '11', 'green': '15', 'blue': '5'}, {'green': '15', 'red': '9'}, {'blue': '4', 'red': '1', 'green': '5'}, {'red': '10', 'green': '20', 'blue': '13'}], '70': [{'red': '6', 'green': '8', 'blue': '7'}, {'blue': '5', 'red': '1', 'green': '17'}, {'red': '2', 'blue': '3', 'green': '6'}, {'blue': '7', 'red': '1', 'green': '14'}, {'red': '7', 'blue': '6', 'green': '16'}], '71': [{'green': '3', 'blue': '3', 'red': '3'}, {'blue': '1', 'red': '11', 'green': '2'}, {'blue': '1', 'red': '11'}], '72': [{'red': '9', 'blue': '17', 'green': '1'}, {'red': '20', 'green': '3', 'blue': '2'}, {'blue': '14', 'green': '4', 'red': '11'}, {'red': '2', 'blue': '12', 'green': '7'}, {'red': '18', 'blue': '13', 'green': '7'}], '73': [{'green': '6', 'blue': '12', 'red': '1'}, {'blue': '10', 'red': '5'}, {'green': '6', 'blue': '17', 'red': '3'}], '74': [{'green': '1', 'blue': '2', 'red': '13'}, {'blue': '2', 'green': '2', 'red': '1'}, {'green': '2', 'blue': '1', 'red': '7'}, {'red': '1', 'green': '1'}], '75': [{'red': '10', 'green': '2'}, {'blue': '3', 'green': '4'}, {'red': '9', 'green': '1'}], '76': [{'red': '1', 'green': '3', 'blue': '1'}, {'blue': '3', 'green': '4', 'red': '6'}, {'blue': '9', 'green': '12', 'red': '2'}, {'green': '5', 'red': '1', 'blue': '1'}], '77': [{'blue': '3', 'red': '4', 'green': '11'}, {'green': '8', 'red': '5'}, {'blue': '7', 'green': '11'}, {'green': '1', 'blue': '3', 'red': '6'}], '78': [{'blue': '15', 'green': '5'}, {'green': '7', 'blue': '9'}, {'green': '7', 'red': '3', 'blue': '2'}], '79': [{'green': '9', 'red': '6', 'blue': '4'}, {'blue': '4', 'red': '2', 'green': '14'}, {'green': '17', 'blue': '2', 'red': '4'}, {'red': '1', 'green': '2'}, {'red': '3', 'green': '3', 'blue': '2'}], '80': [{'green': '1'}, {'green': '15', 'red': '1'}, {'blue': '1', 'green': '20', 'red': '1'}, {'red': '3', 'green': '15', 'blue': '1'}, {'red': '4', 'green': '3'}, {'red': '2', 'green': '18'}], '81': [{'blue': '4', 'green': '1', 'red': '13'}, {'blue': '13', 'red': '19'}, {'red': '4', 'blue': '13'}, {'blue': '8', 'red': '10'}, {'blue': '13', 'red': '5'}, {'green': '1', 'blue': '7', 'red': '12'}], '82': [{'red': '5', 'blue': '3'}, {'red': '4', 'green': '3', 'blue': '9'}, {'blue': '19', 'green': '1', 'red': '5'}, {'green': '5', 'red': '3', 'blue': '10'}], '83': [{'red': '9', 'blue': '3', 'green': '5'}, {'blue': '1', 'green': '1', 'red': '11'}, {'blue': '2', 'green': '6', 'red': '18'}], '84': [{'green': '2'}, {'green': '6', 'red': '5'}, {'green': '3', 'red': '1', 'blue': '1'}], '85': [{'blue': '2', 'red': '6'}, {'green': '9', 'red': '5', 'blue': '15'}, {'green': '7', 'red': '10', 'blue': '2'}, {'red': '10', 'blue': '6', 'green': '2'}, {'green': '8', 'red': '5', 'blue': '12'}, {'green': '6', 'blue': '5', 'red': '6'}], '86': [{'blue': '2', 'red': '12', 'green': '3'}, {'red': '3', 'blue': '2'}, {'green': '1', 'blue': '2', 'red': '2'}, {'blue': '7', 'red': '3', 'green': '1'}, {'green': '1', 'blue': '2', 'red': '5'}, {'green': '3', 'red': '14', 'blue': '4'}], '87': [{'blue': '3', 'green': '1'}, {'red': '3', 'blue': '2', 'green': '1'}, {'red': '1', 'blue': '3'}, {'red': '10', 'green': '3'}, {'red': '5', 'blue': '2'}], '88': [{'blue': '3', 'red': '9', 'green': '9'}, {'blue': '9', 'red': '11'}, {'green': '2', 'blue': '11'}, {'blue': '2', 'red': '14', 'green': '1'}, {'green': '7', 'blue': '11', 'red': '8'}, {'red': '9', 'green': '8', 'blue': '3'}], '89': [{'red': '3', 'blue': '1', 'green': '16'}, {'blue': '5', 'red': '4', 'green': '3'}, {'blue': '3', 'red': '5', 'green': '5'}, {'green': '5', 'blue': '8', 'red': '2'}, {'green': '4', 'red': '2', 'blue': '1'}, {'red': '4', 'green': '1', 'blue': '6'}], '90': [{'green': '7', 'red': '8'}, {'blue': '1', 'green': '7', 'red': '5'}, {'green': '4', 'red': '6'}], '91': [{'green': '3', 'red': '6', 'blue': '4'}, {'green': '2', 'red': '9', 'blue': '10'}, {'green': '3', 'blue': '12'}, {'red': '1', 'blue': '4'}], '92': [{'green': '12', 'blue': '8', 'red': '16'}, {'red': '6', 'green': '14', 'blue': '4'}, {'green': '3', 'red': '3', 'blue': '10'}, {'blue': '9', 'red': '6', 'green': '15'}, {'green': '14', 'blue': '9', 'red': '10'}], '93': [{'blue': '4', 'red': '4', 'green': '9'}, {'blue': '2', 'green': '2', 'red': '6'}, {'blue': '1', 'red': '7'}, {'blue': '7', 'red': '17'}, {'blue': '2', 'red': '13', 'green': '10'}], '94': [{'green': '4', 'red': '10'}, {'red': '9'}, {'green': '1', 'blue': '3', 'red': '14'}], '95': [{'green': '9', 'red': '5'}, {'blue': '3', 'red': '11', 'green': '6'}, {'red': '4', 'green': '1'}, {'green': '13', 'blue': '3', 'red': '5'}, {'red': '1', 'blue': '6', 'green': '12'}, {'red': '7', 'green': '7'}], '96': [{'blue': '6'}, {'green': '5', 'blue': '2', 'red': '2'}, {'blue': '14', 'green': '3'}], '97': [{'blue': '1', 'green': '2', 'red': '5'}, {'green': '2', 'blue': '8', 'red': '9'}, {'green': '1', 'blue': '8', 'red': '6'}, {'blue': '1', 'red': '17'}, {'green': '2', 'blue': '10', 'red': '11'}], '98': [{'red': '3', 'blue': '12', 'green': '2'}, {'green': '3', 'blue': '4', 'red': '4'}, {'red': '1', 'blue': '11', 'green': '2'}, {'blue': '1', 'red': '3'}], '99': [{'green': '2', 'red': '9'}, {'red': '8', 'green': '4', 'blue': '9'}, {'blue': '8', 'red': '13'}, {'green': '10', 'blue': '8', 'red': '6'}, {'green': '11', 'red': '2', 'blue': '13'}], '100': [{'blue': '5', 'green': '2', 'red': '7'}, {'red': '14', 'green': '15', 'blue': '1'}, {'blue': '3', 'red': '3'}, {'green': '8', 'red': '10', 'blue': '6'}, {'blue': '6', 'red': '4', 'green': '8'}]}\n"
     ]
    }
   ],
   "source": [
    "# Set up formatted dictionary with key value pairs\n",
    "games = {}\n",
    "for game in info:\n",
    "    key_part, value_part = game.rstrip(\"\\n\").split(':')\n",
    "    key = key_part.split(' ')[1]\n",
    "    value_list = value_part.split(';')\n",
    "    value = []\n",
    "    for v in value_list:\n",
    "        v = v.split(',')\n",
    "        v_dict = {}\n",
    "        for ele in v:\n",
    "            num, color = ele.split(' ')[1:]\n",
    "            v_dict[color] = num\n",
    "        value.append(v_dict)\n",
    "    games[key] = value\n",
    "print(games)"
   ]
  },
  {
   "cell_type": "code",
   "execution_count": 10,
   "id": "18c1c275-b2e2-4202-9aa2-c15cfec1e69d",
   "metadata": {},
   "outputs": [],
   "source": [
    "def get_power(lst):\n",
    "    red = 1\n",
    "    green = 1\n",
    "    blue = 1\n",
    "    for game in lst:\n",
    "        for color, num in game.items():\n",
    "            if color == \"red\":\n",
    "                if int(num) >= red:\n",
    "                    red = int(num)\n",
    "            elif color == \"green\":\n",
    "                if int(num) >= green:\n",
    "                    green = int(num)\n",
    "            else:\n",
    "                if int(num) >= blue:\n",
    "                    blue = int(num)\n",
    "    return red*green*blue"
   ]
  },
  {
   "cell_type": "code",
   "execution_count": 11,
   "id": "cffa770f-75e5-4ed8-8a02-b5b99a3fbed4",
   "metadata": {},
   "outputs": [],
   "source": [
    "result = 0\n",
    "for game in games:\n",
    "    result += get_power(games[game])"
   ]
  },
  {
   "cell_type": "code",
   "execution_count": 12,
   "id": "b8b4587b-cd05-44a8-ac7b-247200d3ec30",
   "metadata": {},
   "outputs": [
    {
     "name": "stdout",
     "output_type": "stream",
     "text": [
      "67953\n"
     ]
    }
   ],
   "source": [
    "print(result)"
   ]
  }
 ],
 "metadata": {
  "kernelspec": {
   "display_name": "Python 3 (ipykernel)",
   "language": "python",
   "name": "python3"
  },
  "language_info": {
   "codemirror_mode": {
    "name": "ipython",
    "version": 3
   },
   "file_extension": ".py",
   "mimetype": "text/x-python",
   "name": "python",
   "nbconvert_exporter": "python",
   "pygments_lexer": "ipython3",
   "version": "3.11.1"
  }
 },
 "nbformat": 4,
 "nbformat_minor": 5
}
